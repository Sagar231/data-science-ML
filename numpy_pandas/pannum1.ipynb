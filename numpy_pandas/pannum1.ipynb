{
 "cells": [
  {
   "cell_type": "markdown",
   "metadata": {},
   "source": [
    "Data Manipulation and analysis with pandas"
   ]
  },
  {
   "cell_type": "code",
   "execution_count": 2,
   "metadata": {},
   "outputs": [],
   "source": [
    "import pandas as pd"
   ]
  },
  {
   "cell_type": "code",
   "execution_count": 3,
   "metadata": {},
   "outputs": [
    {
     "data": {
      "text/html": [
       "<div>\n",
       "<style scoped>\n",
       "    .dataframe tbody tr th:only-of-type {\n",
       "        vertical-align: middle;\n",
       "    }\n",
       "\n",
       "    .dataframe tbody tr th {\n",
       "        vertical-align: top;\n",
       "    }\n",
       "\n",
       "    .dataframe thead th {\n",
       "        text-align: right;\n",
       "    }\n",
       "</style>\n",
       "<table border=\"1\" class=\"dataframe\">\n",
       "  <thead>\n",
       "    <tr style=\"text-align: right;\">\n",
       "      <th></th>\n",
       "      <th>Index</th>\n",
       "      <th>Customer Id</th>\n",
       "      <th>First Name</th>\n",
       "      <th>Last Name</th>\n",
       "      <th>Company</th>\n",
       "      <th>City</th>\n",
       "      <th>Country</th>\n",
       "      <th>Phone 1</th>\n",
       "      <th>Phone 2</th>\n",
       "      <th>Email</th>\n",
       "      <th>Subscription Date</th>\n",
       "      <th>Website</th>\n",
       "    </tr>\n",
       "  </thead>\n",
       "  <tbody>\n",
       "    <tr>\n",
       "      <th>0</th>\n",
       "      <td>1</td>\n",
       "      <td>EB54EF1154C3A78</td>\n",
       "      <td>Heather</td>\n",
       "      <td>Callahan</td>\n",
       "      <td>Mosley-David</td>\n",
       "      <td>Lake Jeffborough</td>\n",
       "      <td>Norway</td>\n",
       "      <td>043-797-5229</td>\n",
       "      <td>915.112.1727</td>\n",
       "      <td>urangel@espinoza-francis.net</td>\n",
       "      <td>2020-08-26</td>\n",
       "      <td>http://www.escobar.org/</td>\n",
       "    </tr>\n",
       "    <tr>\n",
       "      <th>1</th>\n",
       "      <td>2</td>\n",
       "      <td>10dAcafEBbA5FcA</td>\n",
       "      <td>Kristina</td>\n",
       "      <td>Ferrell</td>\n",
       "      <td>Horn, Shepard and Watson</td>\n",
       "      <td>Aaronville</td>\n",
       "      <td>Andorra</td>\n",
       "      <td>932-062-1802</td>\n",
       "      <td>(209)172-7124x3651</td>\n",
       "      <td>xreese@hall-donovan.com</td>\n",
       "      <td>2020-04-27</td>\n",
       "      <td>https://tyler-pugh.info/</td>\n",
       "    </tr>\n",
       "    <tr>\n",
       "      <th>2</th>\n",
       "      <td>3</td>\n",
       "      <td>67DAB15Ebe4BE4a</td>\n",
       "      <td>Briana</td>\n",
       "      <td>Andersen</td>\n",
       "      <td>Irwin-Oneal</td>\n",
       "      <td>East Jordan</td>\n",
       "      <td>Nepal</td>\n",
       "      <td>8352752061</td>\n",
       "      <td>(567)135-1918</td>\n",
       "      <td>haleybraun@blevins-sexton.com</td>\n",
       "      <td>2022-03-22</td>\n",
       "      <td>https://www.mack-bell.net/</td>\n",
       "    </tr>\n",
       "    <tr>\n",
       "      <th>3</th>\n",
       "      <td>4</td>\n",
       "      <td>6d350C5E5eDB4EE</td>\n",
       "      <td>Patty</td>\n",
       "      <td>Ponce</td>\n",
       "      <td>Richardson Group</td>\n",
       "      <td>East Kristintown</td>\n",
       "      <td>Northern Mariana Islands</td>\n",
       "      <td>302.398.3833</td>\n",
       "      <td>196-189-7767x770</td>\n",
       "      <td>hohailey@anthony.com</td>\n",
       "      <td>2020-07-02</td>\n",
       "      <td>https://delacruz-freeman.org/</td>\n",
       "    </tr>\n",
       "    <tr>\n",
       "      <th>4</th>\n",
       "      <td>5</td>\n",
       "      <td>5820deAdCF23EFe</td>\n",
       "      <td>Kathleen</td>\n",
       "      <td>Mccormick</td>\n",
       "      <td>Carson-Burch</td>\n",
       "      <td>Andresmouth</td>\n",
       "      <td>Macao</td>\n",
       "      <td>001-184-153-9683x1497</td>\n",
       "      <td>552.051.2979x342</td>\n",
       "      <td>alvaradojesse@rangel-shields.com</td>\n",
       "      <td>2021-01-17</td>\n",
       "      <td>https://welch.info/</td>\n",
       "    </tr>\n",
       "  </tbody>\n",
       "</table>\n",
       "</div>"
      ],
      "text/plain": [
       "   Index      Customer Id First Name  Last Name                   Company  \\\n",
       "0      1  EB54EF1154C3A78    Heather   Callahan              Mosley-David   \n",
       "1      2  10dAcafEBbA5FcA   Kristina    Ferrell  Horn, Shepard and Watson   \n",
       "2      3  67DAB15Ebe4BE4a     Briana   Andersen               Irwin-Oneal   \n",
       "3      4  6d350C5E5eDB4EE      Patty      Ponce          Richardson Group   \n",
       "4      5  5820deAdCF23EFe   Kathleen  Mccormick              Carson-Burch   \n",
       "\n",
       "               City                   Country                Phone 1  \\\n",
       "0  Lake Jeffborough                    Norway           043-797-5229   \n",
       "1        Aaronville                   Andorra           932-062-1802   \n",
       "2       East Jordan                     Nepal             8352752061   \n",
       "3  East Kristintown  Northern Mariana Islands           302.398.3833   \n",
       "4       Andresmouth                     Macao  001-184-153-9683x1497   \n",
       "\n",
       "              Phone 2                             Email Subscription Date  \\\n",
       "0        915.112.1727      urangel@espinoza-francis.net        2020-08-26   \n",
       "1  (209)172-7124x3651           xreese@hall-donovan.com        2020-04-27   \n",
       "2       (567)135-1918     haleybraun@blevins-sexton.com        2022-03-22   \n",
       "3    196-189-7767x770              hohailey@anthony.com        2020-07-02   \n",
       "4    552.051.2979x342  alvaradojesse@rangel-shields.com        2021-01-17   \n",
       "\n",
       "                         Website  \n",
       "0        http://www.escobar.org/  \n",
       "1       https://tyler-pugh.info/  \n",
       "2     https://www.mack-bell.net/  \n",
       "3  https://delacruz-freeman.org/  \n",
       "4            https://welch.info/  "
      ]
     },
     "execution_count": 3,
     "metadata": {},
     "output_type": "execute_result"
    }
   ],
   "source": [
    "df = pd.read_csv('data.csv')\n",
    "\n",
    "## fetch the first 5 rows\n",
    "df.head(5)"
   ]
  },
  {
   "cell_type": "code",
   "execution_count": 4,
   "metadata": {},
   "outputs": [
    {
     "data": {
      "text/html": [
       "<div>\n",
       "<style scoped>\n",
       "    .dataframe tbody tr th:only-of-type {\n",
       "        vertical-align: middle;\n",
       "    }\n",
       "\n",
       "    .dataframe tbody tr th {\n",
       "        vertical-align: top;\n",
       "    }\n",
       "\n",
       "    .dataframe thead th {\n",
       "        text-align: right;\n",
       "    }\n",
       "</style>\n",
       "<table border=\"1\" class=\"dataframe\">\n",
       "  <thead>\n",
       "    <tr style=\"text-align: right;\">\n",
       "      <th></th>\n",
       "      <th>Index</th>\n",
       "    </tr>\n",
       "  </thead>\n",
       "  <tbody>\n",
       "    <tr>\n",
       "      <th>count</th>\n",
       "      <td>10000.00000</td>\n",
       "    </tr>\n",
       "    <tr>\n",
       "      <th>mean</th>\n",
       "      <td>5000.50000</td>\n",
       "    </tr>\n",
       "    <tr>\n",
       "      <th>std</th>\n",
       "      <td>2886.89568</td>\n",
       "    </tr>\n",
       "    <tr>\n",
       "      <th>min</th>\n",
       "      <td>1.00000</td>\n",
       "    </tr>\n",
       "    <tr>\n",
       "      <th>25%</th>\n",
       "      <td>2500.75000</td>\n",
       "    </tr>\n",
       "    <tr>\n",
       "      <th>50%</th>\n",
       "      <td>5000.50000</td>\n",
       "    </tr>\n",
       "    <tr>\n",
       "      <th>75%</th>\n",
       "      <td>7500.25000</td>\n",
       "    </tr>\n",
       "    <tr>\n",
       "      <th>max</th>\n",
       "      <td>10000.00000</td>\n",
       "    </tr>\n",
       "  </tbody>\n",
       "</table>\n",
       "</div>"
      ],
      "text/plain": [
       "             Index\n",
       "count  10000.00000\n",
       "mean    5000.50000\n",
       "std     2886.89568\n",
       "min        1.00000\n",
       "25%     2500.75000\n",
       "50%     5000.50000\n",
       "75%     7500.25000\n",
       "max    10000.00000"
      ]
     },
     "execution_count": 4,
     "metadata": {},
     "output_type": "execute_result"
    }
   ],
   "source": [
    "df.describe()"
   ]
  },
  {
   "cell_type": "code",
   "execution_count": 5,
   "metadata": {},
   "outputs": [
    {
     "data": {
      "text/plain": [
       "Index                 int64\n",
       "Customer Id          object\n",
       "First Name           object\n",
       "Last Name            object\n",
       "Company              object\n",
       "City                 object\n",
       "Country              object\n",
       "Phone 1              object\n",
       "Phone 2              object\n",
       "Email                object\n",
       "Subscription Date    object\n",
       "Website              object\n",
       "dtype: object"
      ]
     },
     "execution_count": 5,
     "metadata": {},
     "output_type": "execute_result"
    }
   ],
   "source": [
    "df.dtypes"
   ]
  },
  {
   "cell_type": "code",
   "execution_count": 7,
   "metadata": {},
   "outputs": [
    {
     "data": {
      "text/plain": [
       "0       False\n",
       "1       False\n",
       "2       False\n",
       "3       False\n",
       "4       False\n",
       "        ...  \n",
       "9995    False\n",
       "9996    False\n",
       "9997    False\n",
       "9998    False\n",
       "9999    False\n",
       "Length: 10000, dtype: bool"
      ]
     },
     "execution_count": 7,
     "metadata": {},
     "output_type": "execute_result"
    }
   ],
   "source": [
    "## handling missing values\n",
    "# df.isnull()\n",
    "df.isnull().any(axis=1)"
   ]
  },
  {
   "cell_type": "code",
   "execution_count": 8,
   "metadata": {},
   "outputs": [
    {
     "data": {
      "text/plain": [
       "Index                0\n",
       "Customer Id          0\n",
       "First Name           0\n",
       "Last Name            0\n",
       "Company              0\n",
       "City                 0\n",
       "Country              0\n",
       "Phone 1              0\n",
       "Phone 2              0\n",
       "Email                0\n",
       "Subscription Date    0\n",
       "Website              0\n",
       "dtype: int64"
      ]
     },
     "execution_count": 8,
     "metadata": {},
     "output_type": "execute_result"
    }
   ],
   "source": [
    "df.isnull().sum()"
   ]
  },
  {
   "cell_type": "code",
   "execution_count": 9,
   "metadata": {},
   "outputs": [
    {
     "data": {
      "text/plain": [
       "'\\nthis part is important in filling the missing data\\n'"
      ]
     },
     "execution_count": 9,
     "metadata": {},
     "output_type": "execute_result"
    }
   ],
   "source": [
    "# df.fillna(0)  # any missing value will be replaced with zero\n",
    "\n",
    "# filling missing values with the mean of the column\n",
    "\n",
    "# df['Sales_filNA'] = df['Sales'].fillna(df['Sales'].mean()) \n",
    "'''\n",
    "this part is important in filling the missing data\n",
    "'''\n"
   ]
  },
  {
   "cell_type": "code",
   "execution_count": 10,
   "metadata": {},
   "outputs": [
    {
     "data": {
      "text/html": [
       "<div>\n",
       "<style scoped>\n",
       "    .dataframe tbody tr th:only-of-type {\n",
       "        vertical-align: middle;\n",
       "    }\n",
       "\n",
       "    .dataframe tbody tr th {\n",
       "        vertical-align: top;\n",
       "    }\n",
       "\n",
       "    .dataframe thead th {\n",
       "        text-align: right;\n",
       "    }\n",
       "</style>\n",
       "<table border=\"1\" class=\"dataframe\">\n",
       "  <thead>\n",
       "    <tr style=\"text-align: right;\">\n",
       "      <th></th>\n",
       "      <th>Index</th>\n",
       "      <th>Customer Id</th>\n",
       "      <th>First Name</th>\n",
       "      <th>Last Name</th>\n",
       "      <th>Company</th>\n",
       "      <th>City</th>\n",
       "      <th>Country</th>\n",
       "      <th>Phone 1</th>\n",
       "      <th>Phone 2</th>\n",
       "      <th>Customer Email</th>\n",
       "      <th>Subscription Date</th>\n",
       "      <th>Website</th>\n",
       "    </tr>\n",
       "  </thead>\n",
       "  <tbody>\n",
       "    <tr>\n",
       "      <th>0</th>\n",
       "      <td>1</td>\n",
       "      <td>EB54EF1154C3A78</td>\n",
       "      <td>Heather</td>\n",
       "      <td>Callahan</td>\n",
       "      <td>Mosley-David</td>\n",
       "      <td>Lake Jeffborough</td>\n",
       "      <td>Norway</td>\n",
       "      <td>043-797-5229</td>\n",
       "      <td>915.112.1727</td>\n",
       "      <td>urangel@espinoza-francis.net</td>\n",
       "      <td>2020-08-26</td>\n",
       "      <td>http://www.escobar.org/</td>\n",
       "    </tr>\n",
       "    <tr>\n",
       "      <th>1</th>\n",
       "      <td>2</td>\n",
       "      <td>10dAcafEBbA5FcA</td>\n",
       "      <td>Kristina</td>\n",
       "      <td>Ferrell</td>\n",
       "      <td>Horn, Shepard and Watson</td>\n",
       "      <td>Aaronville</td>\n",
       "      <td>Andorra</td>\n",
       "      <td>932-062-1802</td>\n",
       "      <td>(209)172-7124x3651</td>\n",
       "      <td>xreese@hall-donovan.com</td>\n",
       "      <td>2020-04-27</td>\n",
       "      <td>https://tyler-pugh.info/</td>\n",
       "    </tr>\n",
       "  </tbody>\n",
       "</table>\n",
       "</div>"
      ],
      "text/plain": [
       "   Index      Customer Id First Name Last Name                   Company  \\\n",
       "0      1  EB54EF1154C3A78    Heather  Callahan              Mosley-David   \n",
       "1      2  10dAcafEBbA5FcA   Kristina   Ferrell  Horn, Shepard and Watson   \n",
       "\n",
       "               City  Country       Phone 1             Phone 2  \\\n",
       "0  Lake Jeffborough   Norway  043-797-5229        915.112.1727   \n",
       "1        Aaronville  Andorra  932-062-1802  (209)172-7124x3651   \n",
       "\n",
       "                 Customer Email Subscription Date                   Website  \n",
       "0  urangel@espinoza-francis.net        2020-08-26   http://www.escobar.org/  \n",
       "1       xreese@hall-donovan.com        2020-04-27  https://tyler-pugh.info/  "
      ]
     },
     "execution_count": 10,
     "metadata": {},
     "output_type": "execute_result"
    }
   ],
   "source": [
    "## renaming the column\n",
    "\n",
    "df = df.rename(columns={'Email':'Customer Email'})\n",
    "df.head(2)\n"
   ]
  },
  {
   "cell_type": "code",
   "execution_count": 11,
   "metadata": {},
   "outputs": [
    {
     "data": {
      "text/plain": [
       "\"\\ndf['Value_new'] = df['Value'].astype(float)\\n\\ndf['Value'].fillna(df['Value].mean()).astype(float)  <-- to manage the missing values\\n\""
      ]
     },
     "execution_count": 11,
     "metadata": {},
     "output_type": "execute_result"
    }
   ],
   "source": [
    "## Change dataType\n",
    "'''\n",
    "df['Value_new'] = df['Value'].astype(float)\n",
    "\n",
    "df['Value'].fillna(df['Value].mean()).astype(float)  <-- to manage the missing values\n",
    "'''\n"
   ]
  },
  {
   "cell_type": "code",
   "execution_count": 13,
   "metadata": {},
   "outputs": [
    {
     "data": {
      "text/html": [
       "<div>\n",
       "<style scoped>\n",
       "    .dataframe tbody tr th:only-of-type {\n",
       "        vertical-align: middle;\n",
       "    }\n",
       "\n",
       "    .dataframe tbody tr th {\n",
       "        vertical-align: top;\n",
       "    }\n",
       "\n",
       "    .dataframe thead th {\n",
       "        text-align: right;\n",
       "    }\n",
       "</style>\n",
       "<table border=\"1\" class=\"dataframe\">\n",
       "  <thead>\n",
       "    <tr style=\"text-align: right;\">\n",
       "      <th></th>\n",
       "      <th>Index</th>\n",
       "      <th>Customer Id</th>\n",
       "      <th>First Name</th>\n",
       "      <th>Last Name</th>\n",
       "      <th>Company</th>\n",
       "      <th>City</th>\n",
       "      <th>Country</th>\n",
       "      <th>Phone 1</th>\n",
       "      <th>Phone 2</th>\n",
       "      <th>Customer Email</th>\n",
       "      <th>Subscription Date</th>\n",
       "      <th>Website</th>\n",
       "    </tr>\n",
       "  </thead>\n",
       "  <tbody>\n",
       "    <tr>\n",
       "      <th>0</th>\n",
       "      <td>1</td>\n",
       "      <td>EB54EF1154C3A78</td>\n",
       "      <td>Heather</td>\n",
       "      <td>Callahan</td>\n",
       "      <td>Mosley-David</td>\n",
       "      <td>Lake Jeffborough</td>\n",
       "      <td>Norway</td>\n",
       "      <td>043-797-5229</td>\n",
       "      <td>915.112.1727</td>\n",
       "      <td>urangel@espinoza-francis.net</td>\n",
       "      <td>2020-08-26</td>\n",
       "      <td>http://www.escobar.org/</td>\n",
       "    </tr>\n",
       "    <tr>\n",
       "      <th>1</th>\n",
       "      <td>2</td>\n",
       "      <td>10dAcafEBbA5FcA</td>\n",
       "      <td>Kristina</td>\n",
       "      <td>Ferrell</td>\n",
       "      <td>Horn, Shepard and Watson</td>\n",
       "      <td>Aaronville</td>\n",
       "      <td>Andorra</td>\n",
       "      <td>932-062-1802</td>\n",
       "      <td>(209)172-7124x3651</td>\n",
       "      <td>xreese@hall-donovan.com</td>\n",
       "      <td>2020-04-27</td>\n",
       "      <td>https://tyler-pugh.info/</td>\n",
       "    </tr>\n",
       "    <tr>\n",
       "      <th>2</th>\n",
       "      <td>3</td>\n",
       "      <td>67DAB15Ebe4BE4a</td>\n",
       "      <td>Briana</td>\n",
       "      <td>Andersen</td>\n",
       "      <td>Irwin-Oneal</td>\n",
       "      <td>East Jordan</td>\n",
       "      <td>Nepal</td>\n",
       "      <td>8352752061</td>\n",
       "      <td>(567)135-1918</td>\n",
       "      <td>haleybraun@blevins-sexton.com</td>\n",
       "      <td>2022-03-22</td>\n",
       "      <td>https://www.mack-bell.net/</td>\n",
       "    </tr>\n",
       "    <tr>\n",
       "      <th>3</th>\n",
       "      <td>4</td>\n",
       "      <td>6d350C5E5eDB4EE</td>\n",
       "      <td>Patty</td>\n",
       "      <td>Ponce</td>\n",
       "      <td>Richardson Group</td>\n",
       "      <td>East Kristintown</td>\n",
       "      <td>Northern Mariana Islands</td>\n",
       "      <td>302.398.3833</td>\n",
       "      <td>196-189-7767x770</td>\n",
       "      <td>hohailey@anthony.com</td>\n",
       "      <td>2020-07-02</td>\n",
       "      <td>https://delacruz-freeman.org/</td>\n",
       "    </tr>\n",
       "    <tr>\n",
       "      <th>4</th>\n",
       "      <td>5</td>\n",
       "      <td>5820deAdCF23EFe</td>\n",
       "      <td>Kathleen</td>\n",
       "      <td>Mccormick</td>\n",
       "      <td>Carson-Burch</td>\n",
       "      <td>Andresmouth</td>\n",
       "      <td>Macao</td>\n",
       "      <td>001-184-153-9683x1497</td>\n",
       "      <td>552.051.2979x342</td>\n",
       "      <td>alvaradojesse@rangel-shields.com</td>\n",
       "      <td>2021-01-17</td>\n",
       "      <td>https://welch.info/</td>\n",
       "    </tr>\n",
       "  </tbody>\n",
       "</table>\n",
       "</div>"
      ],
      "text/plain": [
       "   Index      Customer Id First Name  Last Name                   Company  \\\n",
       "0      1  EB54EF1154C3A78    Heather   Callahan              Mosley-David   \n",
       "1      2  10dAcafEBbA5FcA   Kristina    Ferrell  Horn, Shepard and Watson   \n",
       "2      3  67DAB15Ebe4BE4a     Briana   Andersen               Irwin-Oneal   \n",
       "3      4  6d350C5E5eDB4EE      Patty      Ponce          Richardson Group   \n",
       "4      5  5820deAdCF23EFe   Kathleen  Mccormick              Carson-Burch   \n",
       "\n",
       "               City                   Country                Phone 1  \\\n",
       "0  Lake Jeffborough                    Norway           043-797-5229   \n",
       "1        Aaronville                   Andorra           932-062-1802   \n",
       "2       East Jordan                     Nepal             8352752061   \n",
       "3  East Kristintown  Northern Mariana Islands           302.398.3833   \n",
       "4       Andresmouth                     Macao  001-184-153-9683x1497   \n",
       "\n",
       "              Phone 2                    Customer Email Subscription Date  \\\n",
       "0        915.112.1727      urangel@espinoza-francis.net        2020-08-26   \n",
       "1  (209)172-7124x3651           xreese@hall-donovan.com        2020-04-27   \n",
       "2       (567)135-1918     haleybraun@blevins-sexton.com        2022-03-22   \n",
       "3    196-189-7767x770              hohailey@anthony.com        2020-07-02   \n",
       "4    552.051.2979x342  alvaradojesse@rangel-shields.com        2021-01-17   \n",
       "\n",
       "                         Website  \n",
       "0        http://www.escobar.org/  \n",
       "1       https://tyler-pugh.info/  \n",
       "2     https://www.mack-bell.net/  \n",
       "3  https://delacruz-freeman.org/  \n",
       "4            https://welch.info/  "
      ]
     },
     "execution_count": 13,
     "metadata": {},
     "output_type": "execute_result"
    }
   ],
   "source": [
    "'''\n",
    "df[\"NEw Value\"] = df['Value'].apply(lambda x:x*2)\n",
    "\n",
    "'''\n",
    "df.head()\n",
    "\n"
   ]
  },
  {
   "cell_type": "code",
   "execution_count": 17,
   "metadata": {},
   "outputs": [
    {
     "name": "stdout",
     "output_type": "stream",
     "text": [
      "City               \n",
      "Aaronstad      2149      Melody a\n",
      "               6199       Tanya a\n",
      "Aaronview      2650        Brad a\n",
      "Aaronville     1       Kristina a\n",
      "Abbottborough  8968      Tracie a\n",
      "                          ...    \n",
      "Zimmermanside  373       Samuel a\n",
      "Zoeburgh       9933    Cheyenne a\n",
      "Zoetown        4773     Shannon a\n",
      "Zoeview        5129      Thomas a\n",
      "Zunigamouth    5626      Eileen a\n",
      "Name: First Name, Length: 10000, dtype: object\n"
     ]
    }
   ],
   "source": [
    "## Data Aggregating and Grouping\n",
    "\n",
    "# grouped_mean = df.groupby('Product')['Value'].mean()\n",
    "grouped_mean = df.groupby('City')['First Name'].apply(lambda x:x+\" a\")\n",
    "print(grouped_mean)"
   ]
  },
  {
   "cell_type": "code",
   "execution_count": 18,
   "metadata": {},
   "outputs": [
    {
     "data": {
      "text/plain": [
       "' \\nuse multiple coloumns to group  by\\n\\n'"
      ]
     },
     "execution_count": 18,
     "metadata": {},
     "output_type": "execute_result"
    }
   ],
   "source": [
    "# grouped_sum = df.groupby(['Product','Region'])['Value'].sum()\n",
    "\n",
    "''' \n",
    "use multiple coloumns to group  by\n",
    "\n",
    "'''"
   ]
  },
  {
   "cell_type": "code",
   "execution_count": 19,
   "metadata": {},
   "outputs": [
    {
     "data": {
      "text/plain": [
       "\" \\n\\ngrouped_agg = df.groupby('Region')['Value'].agg(['mean','sum','count'])\\n \\n \""
      ]
     },
     "execution_count": 19,
     "metadata": {},
     "output_type": "execute_result"
    }
   ],
   "source": [
    "## agrrigate multiple Functions\n",
    "\n",
    "''' \n",
    "\n",
    "grouped_agg = df.groupby('Region')['Value'].agg(['mean','sum','count'])\n",
    " \n",
    " '''"
   ]
  },
  {
   "cell_type": "code",
   "execution_count": 20,
   "metadata": {},
   "outputs": [],
   "source": [
    "## Merging and joining DataFrame\n",
    "\n",
    "df1 = pd.DataFrame({'Key':['A','B','C'],'Values1':[10,20,30]})\n",
    "df2 = pd.DataFrame({'Key':['A','B','D'],'Values2':[11,22,32]})"
   ]
  },
  {
   "cell_type": "code",
   "execution_count": 21,
   "metadata": {},
   "outputs": [
    {
     "data": {
      "text/html": [
       "<div>\n",
       "<style scoped>\n",
       "    .dataframe tbody tr th:only-of-type {\n",
       "        vertical-align: middle;\n",
       "    }\n",
       "\n",
       "    .dataframe tbody tr th {\n",
       "        vertical-align: top;\n",
       "    }\n",
       "\n",
       "    .dataframe thead th {\n",
       "        text-align: right;\n",
       "    }\n",
       "</style>\n",
       "<table border=\"1\" class=\"dataframe\">\n",
       "  <thead>\n",
       "    <tr style=\"text-align: right;\">\n",
       "      <th></th>\n",
       "      <th>Key</th>\n",
       "      <th>Values1</th>\n",
       "    </tr>\n",
       "  </thead>\n",
       "  <tbody>\n",
       "    <tr>\n",
       "      <th>0</th>\n",
       "      <td>A</td>\n",
       "      <td>10</td>\n",
       "    </tr>\n",
       "    <tr>\n",
       "      <th>1</th>\n",
       "      <td>B</td>\n",
       "      <td>20</td>\n",
       "    </tr>\n",
       "    <tr>\n",
       "      <th>2</th>\n",
       "      <td>C</td>\n",
       "      <td>30</td>\n",
       "    </tr>\n",
       "  </tbody>\n",
       "</table>\n",
       "</div>"
      ],
      "text/plain": [
       "  Key  Values1\n",
       "0   A       10\n",
       "1   B       20\n",
       "2   C       30"
      ]
     },
     "execution_count": 21,
     "metadata": {},
     "output_type": "execute_result"
    }
   ],
   "source": [
    "df1"
   ]
  },
  {
   "cell_type": "code",
   "execution_count": 22,
   "metadata": {},
   "outputs": [
    {
     "data": {
      "text/html": [
       "<div>\n",
       "<style scoped>\n",
       "    .dataframe tbody tr th:only-of-type {\n",
       "        vertical-align: middle;\n",
       "    }\n",
       "\n",
       "    .dataframe tbody tr th {\n",
       "        vertical-align: top;\n",
       "    }\n",
       "\n",
       "    .dataframe thead th {\n",
       "        text-align: right;\n",
       "    }\n",
       "</style>\n",
       "<table border=\"1\" class=\"dataframe\">\n",
       "  <thead>\n",
       "    <tr style=\"text-align: right;\">\n",
       "      <th></th>\n",
       "      <th>Key</th>\n",
       "      <th>Values2</th>\n",
       "    </tr>\n",
       "  </thead>\n",
       "  <tbody>\n",
       "    <tr>\n",
       "      <th>0</th>\n",
       "      <td>A</td>\n",
       "      <td>11</td>\n",
       "    </tr>\n",
       "    <tr>\n",
       "      <th>1</th>\n",
       "      <td>B</td>\n",
       "      <td>22</td>\n",
       "    </tr>\n",
       "    <tr>\n",
       "      <th>2</th>\n",
       "      <td>D</td>\n",
       "      <td>32</td>\n",
       "    </tr>\n",
       "  </tbody>\n",
       "</table>\n",
       "</div>"
      ],
      "text/plain": [
       "  Key  Values2\n",
       "0   A       11\n",
       "1   B       22\n",
       "2   D       32"
      ]
     },
     "execution_count": 22,
     "metadata": {},
     "output_type": "execute_result"
    }
   ],
   "source": [
    "df2"
   ]
  },
  {
   "cell_type": "code",
   "execution_count": 23,
   "metadata": {},
   "outputs": [
    {
     "data": {
      "text/html": [
       "<div>\n",
       "<style scoped>\n",
       "    .dataframe tbody tr th:only-of-type {\n",
       "        vertical-align: middle;\n",
       "    }\n",
       "\n",
       "    .dataframe tbody tr th {\n",
       "        vertical-align: top;\n",
       "    }\n",
       "\n",
       "    .dataframe thead th {\n",
       "        text-align: right;\n",
       "    }\n",
       "</style>\n",
       "<table border=\"1\" class=\"dataframe\">\n",
       "  <thead>\n",
       "    <tr style=\"text-align: right;\">\n",
       "      <th></th>\n",
       "      <th>Key</th>\n",
       "      <th>Values1</th>\n",
       "      <th>Values2</th>\n",
       "    </tr>\n",
       "  </thead>\n",
       "  <tbody>\n",
       "    <tr>\n",
       "      <th>0</th>\n",
       "      <td>A</td>\n",
       "      <td>10</td>\n",
       "      <td>11</td>\n",
       "    </tr>\n",
       "    <tr>\n",
       "      <th>1</th>\n",
       "      <td>B</td>\n",
       "      <td>20</td>\n",
       "      <td>22</td>\n",
       "    </tr>\n",
       "  </tbody>\n",
       "</table>\n",
       "</div>"
      ],
      "text/plain": [
       "  Key  Values1  Values2\n",
       "0   A       10       11\n",
       "1   B       20       22"
      ]
     },
     "execution_count": 23,
     "metadata": {},
     "output_type": "execute_result"
    }
   ],
   "source": [
    "## merge DATAFRAME on the 'key columns'\n",
    "\n",
    "pd.merge(df1,df2,on=\"Key\",how=\"inner\")"
   ]
  },
  {
   "cell_type": "code",
   "execution_count": 24,
   "metadata": {},
   "outputs": [
    {
     "data": {
      "text/html": [
       "<div>\n",
       "<style scoped>\n",
       "    .dataframe tbody tr th:only-of-type {\n",
       "        vertical-align: middle;\n",
       "    }\n",
       "\n",
       "    .dataframe tbody tr th {\n",
       "        vertical-align: top;\n",
       "    }\n",
       "\n",
       "    .dataframe thead th {\n",
       "        text-align: right;\n",
       "    }\n",
       "</style>\n",
       "<table border=\"1\" class=\"dataframe\">\n",
       "  <thead>\n",
       "    <tr style=\"text-align: right;\">\n",
       "      <th></th>\n",
       "      <th>Key</th>\n",
       "      <th>Values1</th>\n",
       "      <th>Values2</th>\n",
       "    </tr>\n",
       "  </thead>\n",
       "  <tbody>\n",
       "    <tr>\n",
       "      <th>0</th>\n",
       "      <td>A</td>\n",
       "      <td>10.0</td>\n",
       "      <td>11.0</td>\n",
       "    </tr>\n",
       "    <tr>\n",
       "      <th>1</th>\n",
       "      <td>B</td>\n",
       "      <td>20.0</td>\n",
       "      <td>22.0</td>\n",
       "    </tr>\n",
       "    <tr>\n",
       "      <th>2</th>\n",
       "      <td>C</td>\n",
       "      <td>30.0</td>\n",
       "      <td>NaN</td>\n",
       "    </tr>\n",
       "    <tr>\n",
       "      <th>3</th>\n",
       "      <td>D</td>\n",
       "      <td>NaN</td>\n",
       "      <td>32.0</td>\n",
       "    </tr>\n",
       "  </tbody>\n",
       "</table>\n",
       "</div>"
      ],
      "text/plain": [
       "  Key  Values1  Values2\n",
       "0   A     10.0     11.0\n",
       "1   B     20.0     22.0\n",
       "2   C     30.0      NaN\n",
       "3   D      NaN     32.0"
      ]
     },
     "execution_count": 24,
     "metadata": {},
     "output_type": "execute_result"
    }
   ],
   "source": [
    "pd.merge(df1,df2,on=\"Key\",how=\"outer\")"
   ]
  },
  {
   "cell_type": "code",
   "execution_count": 25,
   "metadata": {},
   "outputs": [
    {
     "data": {
      "text/html": [
       "<div>\n",
       "<style scoped>\n",
       "    .dataframe tbody tr th:only-of-type {\n",
       "        vertical-align: middle;\n",
       "    }\n",
       "\n",
       "    .dataframe tbody tr th {\n",
       "        vertical-align: top;\n",
       "    }\n",
       "\n",
       "    .dataframe thead th {\n",
       "        text-align: right;\n",
       "    }\n",
       "</style>\n",
       "<table border=\"1\" class=\"dataframe\">\n",
       "  <thead>\n",
       "    <tr style=\"text-align: right;\">\n",
       "      <th></th>\n",
       "      <th>Key</th>\n",
       "      <th>Values1</th>\n",
       "      <th>Values2</th>\n",
       "    </tr>\n",
       "  </thead>\n",
       "  <tbody>\n",
       "    <tr>\n",
       "      <th>0</th>\n",
       "      <td>A</td>\n",
       "      <td>10</td>\n",
       "      <td>11.0</td>\n",
       "    </tr>\n",
       "    <tr>\n",
       "      <th>1</th>\n",
       "      <td>B</td>\n",
       "      <td>20</td>\n",
       "      <td>22.0</td>\n",
       "    </tr>\n",
       "    <tr>\n",
       "      <th>2</th>\n",
       "      <td>C</td>\n",
       "      <td>30</td>\n",
       "      <td>NaN</td>\n",
       "    </tr>\n",
       "  </tbody>\n",
       "</table>\n",
       "</div>"
      ],
      "text/plain": [
       "  Key  Values1  Values2\n",
       "0   A       10     11.0\n",
       "1   B       20     22.0\n",
       "2   C       30      NaN"
      ]
     },
     "execution_count": 25,
     "metadata": {},
     "output_type": "execute_result"
    }
   ],
   "source": [
    "pd.merge(df1,df2,on=\"Key\",how=\"left\")"
   ]
  },
  {
   "cell_type": "code",
   "execution_count": 26,
   "metadata": {},
   "outputs": [
    {
     "data": {
      "text/html": [
       "<div>\n",
       "<style scoped>\n",
       "    .dataframe tbody tr th:only-of-type {\n",
       "        vertical-align: middle;\n",
       "    }\n",
       "\n",
       "    .dataframe tbody tr th {\n",
       "        vertical-align: top;\n",
       "    }\n",
       "\n",
       "    .dataframe thead th {\n",
       "        text-align: right;\n",
       "    }\n",
       "</style>\n",
       "<table border=\"1\" class=\"dataframe\">\n",
       "  <thead>\n",
       "    <tr style=\"text-align: right;\">\n",
       "      <th></th>\n",
       "      <th>Key</th>\n",
       "      <th>Values1</th>\n",
       "      <th>Values2</th>\n",
       "    </tr>\n",
       "  </thead>\n",
       "  <tbody>\n",
       "    <tr>\n",
       "      <th>0</th>\n",
       "      <td>A</td>\n",
       "      <td>10.0</td>\n",
       "      <td>11</td>\n",
       "    </tr>\n",
       "    <tr>\n",
       "      <th>1</th>\n",
       "      <td>B</td>\n",
       "      <td>20.0</td>\n",
       "      <td>22</td>\n",
       "    </tr>\n",
       "    <tr>\n",
       "      <th>2</th>\n",
       "      <td>D</td>\n",
       "      <td>NaN</td>\n",
       "      <td>32</td>\n",
       "    </tr>\n",
       "  </tbody>\n",
       "</table>\n",
       "</div>"
      ],
      "text/plain": [
       "  Key  Values1  Values2\n",
       "0   A     10.0       11\n",
       "1   B     20.0       22\n",
       "2   D      NaN       32"
      ]
     },
     "execution_count": 26,
     "metadata": {},
     "output_type": "execute_result"
    }
   ],
   "source": [
    "pd.merge(df1,df2,on=\"Key\",how=\"right\")"
   ]
  },
  {
   "cell_type": "code",
   "execution_count": null,
   "metadata": {},
   "outputs": [],
   "source": []
  }
 ],
 "metadata": {
  "kernelspec": {
   "display_name": "Python 3",
   "language": "python",
   "name": "python3"
  },
  "language_info": {
   "codemirror_mode": {
    "name": "ipython",
    "version": 3
   },
   "file_extension": ".py",
   "mimetype": "text/x-python",
   "name": "python",
   "nbconvert_exporter": "python",
   "pygments_lexer": "ipython3",
   "version": "3.12.0"
  }
 },
 "nbformat": 4,
 "nbformat_minor": 2
}
